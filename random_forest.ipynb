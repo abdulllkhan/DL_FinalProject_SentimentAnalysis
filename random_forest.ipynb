{
 "cells": [
  {
   "cell_type": "markdown",
   "id": "516178a4-e8b6-423a-9b76-b2456064a926",
   "metadata": {},
   "source": [
    "# Random Forest Classifier"
   ]
  },
  {
   "cell_type": "code",
   "execution_count": 431,
   "id": "f449a4f9-214f-4066-a272-fc6c4751ff3c",
   "metadata": {},
   "outputs": [],
   "source": [
    "import pandas as pd\n",
    "import numpy as np"
   ]
  },
  {
   "cell_type": "code",
   "execution_count": 432,
   "id": "57a8c859-d6f1-4f26-a882-84a1f135fbb2",
   "metadata": {},
   "outputs": [],
   "source": [
    "data = 'datasets/merged_50k.csv'\n",
    "\n",
    "df = pd.read_csv(data)"
   ]
  },
  {
   "cell_type": "code",
   "execution_count": 433,
   "id": "5bb16def-6415-47bd-a234-d97eb9110487",
   "metadata": {},
   "outputs": [
    {
     "name": "stdout",
     "output_type": "stream",
     "text": [
      "['id', 'created_utc', 'body', 'sentiment', 'score', 'date', 'sentiment_string', 'open_price', 'high_price', 'low_price', 'close_price', 'adjclose_price', 'volume', 'previous_close', 'price_movement', 'price_movement_tomorrow', 'does_sentiment_match', 'stock_trend_prediction']\n"
     ]
    }
   ],
   "source": [
    "columns = df.columns.to_list()\n",
    "print(columns)"
   ]
  },
  {
   "cell_type": "code",
   "execution_count": 434,
   "id": "ebdde253-c9be-4750-b055-6d93e5fd02d5",
   "metadata": {},
   "outputs": [],
   "source": [
    "columns_to_be_dropped = ['id', 'body', 'created_utc',  \n",
    "                         'price_movement_tomorrow', 'sentiment_string',\n",
    "                         'does_sentiment_match', 'price_movement']\n"
   ]
  },
  {
   "cell_type": "code",
   "execution_count": 435,
   "id": "2d800620-d29f-4bcc-9caa-c7f8b514851e",
   "metadata": {},
   "outputs": [],
   "source": [
    "df.drop(columns=columns_to_be_dropped, inplace=True)"
   ]
  },
  {
   "cell_type": "code",
   "execution_count": 436,
   "id": "6784baba-4f30-4331-b5b4-99de2bd0c527",
   "metadata": {},
   "outputs": [
    {
     "name": "stdout",
     "output_type": "stream",
     "text": [
      "['sentiment', 'score', 'date', 'open_price', 'high_price', 'low_price', 'close_price', 'adjclose_price', 'volume', 'previous_close', 'stock_trend_prediction']\n"
     ]
    }
   ],
   "source": [
    "columns = df.columns.to_list()\n",
    "print(columns)"
   ]
  },
  {
   "cell_type": "code",
   "execution_count": 437,
   "id": "a72cddbe-5e7e-4775-9a7a-a9e9a356788b",
   "metadata": {},
   "outputs": [
    {
     "name": "stdout",
     "output_type": "stream",
     "text": [
      "           date  sentiment  score  stock_trend_prediction\n",
      "0    2021-05-01    33.9188    871                       0\n",
      "1    2021-05-02    38.0589   2136                       0\n",
      "2    2021-05-03    55.4247   5117                       0\n",
      "3    2021-05-04    47.8221   3624                       0\n",
      "4    2021-05-05    81.2476   4818                       0\n",
      "..          ...        ...    ...                     ...\n",
      "179  2021-10-27    41.7514   2058                       1\n",
      "180  2021-10-28    47.3124   1724                       0\n",
      "181  2021-10-29    97.8517   3169                       1\n",
      "182  2021-10-30    44.1588    683                       1\n",
      "183  2021-10-31    30.1968    569                       1\n",
      "\n",
      "[184 rows x 4 columns]\n"
     ]
    }
   ],
   "source": [
    "summed_df = df.groupby('date').agg({'sentiment': 'sum', 'score': 'sum', 'stock_trend_prediction': 'sum'}).reset_index()\n",
    "\n",
    "summed_df['stock_trend_prediction'] = summed_df['stock_trend_prediction'].apply(lambda x: 1 if x > 0 else 0)\n",
    "\n",
    "# Display the new DataFrame\n",
    "print(summed_df)"
   ]
  },
  {
   "cell_type": "code",
   "execution_count": 438,
   "id": "7c5a19b2-f41d-4a45-8538-f8b3b54bd9b4",
   "metadata": {},
   "outputs": [],
   "source": [
    "df.dropna(inplace=True)"
   ]
  },
  {
   "cell_type": "code",
   "execution_count": 439,
   "id": "38ff98f2-b6c0-42bf-9317-bacafe671bf7",
   "metadata": {},
   "outputs": [
    {
     "data": {
      "text/plain": [
       "(47340, 11)"
      ]
     },
     "execution_count": 439,
     "metadata": {},
     "output_type": "execute_result"
    }
   ],
   "source": [
    "df.shape"
   ]
  },
  {
   "cell_type": "code",
   "execution_count": 440,
   "id": "1b90c713-d798-4ed0-8572-8fa37e11a297",
   "metadata": {},
   "outputs": [
    {
     "data": {
      "text/html": [
       "<div>\n",
       "<style scoped>\n",
       "    .dataframe tbody tr th:only-of-type {\n",
       "        vertical-align: middle;\n",
       "    }\n",
       "\n",
       "    .dataframe tbody tr th {\n",
       "        vertical-align: top;\n",
       "    }\n",
       "\n",
       "    .dataframe thead th {\n",
       "        text-align: right;\n",
       "    }\n",
       "</style>\n",
       "<table border=\"1\" class=\"dataframe\">\n",
       "  <thead>\n",
       "    <tr style=\"text-align: right;\">\n",
       "      <th></th>\n",
       "      <th>sentiment</th>\n",
       "      <th>score</th>\n",
       "      <th>date</th>\n",
       "      <th>open_price</th>\n",
       "      <th>high_price</th>\n",
       "      <th>low_price</th>\n",
       "      <th>close_price</th>\n",
       "      <th>adjclose_price</th>\n",
       "      <th>volume</th>\n",
       "      <th>previous_close</th>\n",
       "      <th>stock_trend_prediction</th>\n",
       "    </tr>\n",
       "  </thead>\n",
       "  <tbody>\n",
       "    <tr>\n",
       "      <th>0</th>\n",
       "      <td>0.0138</td>\n",
       "      <td>0</td>\n",
       "      <td>2021-05-01</td>\n",
       "      <td>43.75</td>\n",
       "      <td>45.950001</td>\n",
       "      <td>43.174999</td>\n",
       "      <td>43.397499</td>\n",
       "      <td>43.397499</td>\n",
       "      <td>17734400</td>\n",
       "      <td>44.047501</td>\n",
       "      <td>0</td>\n",
       "    </tr>\n",
       "    <tr>\n",
       "      <th>1</th>\n",
       "      <td>0.9558</td>\n",
       "      <td>1</td>\n",
       "      <td>2021-05-01</td>\n",
       "      <td>43.75</td>\n",
       "      <td>45.950001</td>\n",
       "      <td>43.174999</td>\n",
       "      <td>43.397499</td>\n",
       "      <td>43.397499</td>\n",
       "      <td>17734400</td>\n",
       "      <td>44.047501</td>\n",
       "      <td>0</td>\n",
       "    </tr>\n",
       "    <tr>\n",
       "      <th>2</th>\n",
       "      <td>0.5106</td>\n",
       "      <td>15</td>\n",
       "      <td>2021-05-01</td>\n",
       "      <td>43.75</td>\n",
       "      <td>45.950001</td>\n",
       "      <td>43.174999</td>\n",
       "      <td>43.397499</td>\n",
       "      <td>43.397499</td>\n",
       "      <td>17734400</td>\n",
       "      <td>44.047501</td>\n",
       "      <td>0</td>\n",
       "    </tr>\n",
       "    <tr>\n",
       "      <th>3</th>\n",
       "      <td>0.6597</td>\n",
       "      <td>2</td>\n",
       "      <td>2021-05-01</td>\n",
       "      <td>43.75</td>\n",
       "      <td>45.950001</td>\n",
       "      <td>43.174999</td>\n",
       "      <td>43.397499</td>\n",
       "      <td>43.397499</td>\n",
       "      <td>17734400</td>\n",
       "      <td>44.047501</td>\n",
       "      <td>0</td>\n",
       "    </tr>\n",
       "    <tr>\n",
       "      <th>4</th>\n",
       "      <td>-0.2918</td>\n",
       "      <td>4</td>\n",
       "      <td>2021-05-01</td>\n",
       "      <td>43.75</td>\n",
       "      <td>45.950001</td>\n",
       "      <td>43.174999</td>\n",
       "      <td>43.397499</td>\n",
       "      <td>43.397499</td>\n",
       "      <td>17734400</td>\n",
       "      <td>44.047501</td>\n",
       "      <td>0</td>\n",
       "    </tr>\n",
       "  </tbody>\n",
       "</table>\n",
       "</div>"
      ],
      "text/plain": [
       "   sentiment  score        date  open_price  high_price  low_price  \\\n",
       "0     0.0138      0  2021-05-01       43.75   45.950001  43.174999   \n",
       "1     0.9558      1  2021-05-01       43.75   45.950001  43.174999   \n",
       "2     0.5106     15  2021-05-01       43.75   45.950001  43.174999   \n",
       "3     0.6597      2  2021-05-01       43.75   45.950001  43.174999   \n",
       "4    -0.2918      4  2021-05-01       43.75   45.950001  43.174999   \n",
       "\n",
       "   close_price  adjclose_price    volume  previous_close  \\\n",
       "0    43.397499       43.397499  17734400       44.047501   \n",
       "1    43.397499       43.397499  17734400       44.047501   \n",
       "2    43.397499       43.397499  17734400       44.047501   \n",
       "3    43.397499       43.397499  17734400       44.047501   \n",
       "4    43.397499       43.397499  17734400       44.047501   \n",
       "\n",
       "   stock_trend_prediction  \n",
       "0                       0  \n",
       "1                       0  \n",
       "2                       0  \n",
       "3                       0  \n",
       "4                       0  "
      ]
     },
     "execution_count": 440,
     "metadata": {},
     "output_type": "execute_result"
    }
   ],
   "source": [
    "df.head()"
   ]
  },
  {
   "cell_type": "code",
   "execution_count": 441,
   "id": "8bdbe2f4-d894-457b-84eb-a5d0f11c22da",
   "metadata": {},
   "outputs": [],
   "source": [
    "df['weighted_sentiment'] = df['sentiment'] * df['score']"
   ]
  },
  {
   "cell_type": "code",
   "execution_count": 442,
   "id": "98e8a0ba-6773-48cc-9ccd-4179b976d645",
   "metadata": {},
   "outputs": [],
   "source": [
    "# df['weighted_sentiment'] = df['sentiment'] "
   ]
  },
  {
   "cell_type": "code",
   "execution_count": 443,
   "id": "1d01401a-3173-497d-a8ba-52f70c6f06f3",
   "metadata": {},
   "outputs": [
    {
     "name": "stdout",
     "output_type": "stream",
     "text": [
      "<class 'pandas.core.frame.DataFrame'>\n",
      "Index: 47340 entries, 0 to 49999\n",
      "Data columns (total 12 columns):\n",
      " #   Column                  Non-Null Count  Dtype  \n",
      "---  ------                  --------------  -----  \n",
      " 0   sentiment               47340 non-null  float64\n",
      " 1   score                   47340 non-null  int64  \n",
      " 2   date                    47340 non-null  object \n",
      " 3   open_price              47340 non-null  float64\n",
      " 4   high_price              47340 non-null  float64\n",
      " 5   low_price               47340 non-null  float64\n",
      " 6   close_price             47340 non-null  float64\n",
      " 7   adjclose_price          47340 non-null  float64\n",
      " 8   volume                  47340 non-null  int64  \n",
      " 9   previous_close          47340 non-null  float64\n",
      " 10  stock_trend_prediction  47340 non-null  int64  \n",
      " 11  weighted_sentiment      47340 non-null  float64\n",
      "dtypes: float64(8), int64(3), object(1)\n",
      "memory usage: 4.7+ MB\n"
     ]
    }
   ],
   "source": [
    "df.info()"
   ]
  },
  {
   "cell_type": "code",
   "execution_count": 444,
   "id": "a5fb7a91-5e36-4251-96d0-ba35207247bd",
   "metadata": {},
   "outputs": [
    {
     "data": {
      "text/plain": [
       "['sentiment',\n",
       " 'score',\n",
       " 'date',\n",
       " 'open_price',\n",
       " 'high_price',\n",
       " 'low_price',\n",
       " 'close_price',\n",
       " 'adjclose_price',\n",
       " 'volume',\n",
       " 'previous_close',\n",
       " 'stock_trend_prediction']"
      ]
     },
     "execution_count": 444,
     "metadata": {},
     "output_type": "execute_result"
    }
   ],
   "source": [
    "columns"
   ]
  },
  {
   "cell_type": "code",
   "execution_count": 445,
   "id": "640ff4f2-7895-4c22-9693-b78d956ee668",
   "metadata": {},
   "outputs": [],
   "source": [
    "# df.drop(columns = ['score', 'sentiment'], inplace=True)"
   ]
  },
  {
   "cell_type": "code",
   "execution_count": 446,
   "id": "c9b4fcc4-1e82-4ca6-ba05-3fb99d34b6f7",
   "metadata": {},
   "outputs": [
    {
     "name": "stdout",
     "output_type": "stream",
     "text": [
      "<class 'pandas.core.frame.DataFrame'>\n",
      "Index: 47340 entries, 0 to 49999\n",
      "Data columns (total 12 columns):\n",
      " #   Column                  Non-Null Count  Dtype  \n",
      "---  ------                  --------------  -----  \n",
      " 0   sentiment               47340 non-null  float64\n",
      " 1   score                   47340 non-null  int64  \n",
      " 2   date                    47340 non-null  object \n",
      " 3   open_price              47340 non-null  float64\n",
      " 4   high_price              47340 non-null  float64\n",
      " 5   low_price               47340 non-null  float64\n",
      " 6   close_price             47340 non-null  float64\n",
      " 7   adjclose_price          47340 non-null  float64\n",
      " 8   volume                  47340 non-null  int64  \n",
      " 9   previous_close          47340 non-null  float64\n",
      " 10  stock_trend_prediction  47340 non-null  int64  \n",
      " 11  weighted_sentiment      47340 non-null  float64\n",
      "dtypes: float64(8), int64(3), object(1)\n",
      "memory usage: 4.7+ MB\n"
     ]
    }
   ],
   "source": [
    "df.info()"
   ]
  },
  {
   "cell_type": "code",
   "execution_count": 447,
   "id": "67b190a9-49bf-4b04-9971-c0ac75844d6d",
   "metadata": {},
   "outputs": [],
   "source": [
    "# for col in columns:\n",
    "#     print(df[col].value_counts())"
   ]
  },
  {
   "cell_type": "code",
   "execution_count": 448,
   "id": "e47ab28c-55b0-4d16-be00-0e9fa4a2582f",
   "metadata": {},
   "outputs": [],
   "source": [
    "total_weighted_sentiment = df.groupby('date')['weighted_sentiment'].sum().reset_index()"
   ]
  },
  {
   "cell_type": "code",
   "execution_count": 449,
   "id": "bb6c8928-5ac2-4061-a753-a152ba19948e",
   "metadata": {},
   "outputs": [
    {
     "name": "stdout",
     "output_type": "stream",
     "text": [
      "<class 'pandas.core.frame.DataFrame'>\n",
      "Index: 47340 entries, 0 to 49999\n",
      "Data columns (total 12 columns):\n",
      " #   Column                  Non-Null Count  Dtype  \n",
      "---  ------                  --------------  -----  \n",
      " 0   sentiment               47340 non-null  float64\n",
      " 1   score                   47340 non-null  int64  \n",
      " 2   date                    47340 non-null  object \n",
      " 3   open_price              47340 non-null  float64\n",
      " 4   high_price              47340 non-null  float64\n",
      " 5   low_price               47340 non-null  float64\n",
      " 6   close_price             47340 non-null  float64\n",
      " 7   adjclose_price          47340 non-null  float64\n",
      " 8   volume                  47340 non-null  int64  \n",
      " 9   previous_close          47340 non-null  float64\n",
      " 10  stock_trend_prediction  47340 non-null  int64  \n",
      " 11  weighted_sentiment      47340 non-null  float64\n",
      "dtypes: float64(8), int64(3), object(1)\n",
      "memory usage: 4.7+ MB\n"
     ]
    }
   ],
   "source": [
    "df.info()"
   ]
  },
  {
   "cell_type": "code",
   "execution_count": 450,
   "id": "805e42be-9d0a-4263-8b53-426ae2f63a02",
   "metadata": {},
   "outputs": [
    {
     "data": {
      "text/html": [
       "<div>\n",
       "<style scoped>\n",
       "    .dataframe tbody tr th:only-of-type {\n",
       "        vertical-align: middle;\n",
       "    }\n",
       "\n",
       "    .dataframe tbody tr th {\n",
       "        vertical-align: top;\n",
       "    }\n",
       "\n",
       "    .dataframe thead th {\n",
       "        text-align: right;\n",
       "    }\n",
       "</style>\n",
       "<table border=\"1\" class=\"dataframe\">\n",
       "  <thead>\n",
       "    <tr style=\"text-align: right;\">\n",
       "      <th></th>\n",
       "      <th>sentiment</th>\n",
       "      <th>score</th>\n",
       "      <th>date</th>\n",
       "      <th>open_price</th>\n",
       "      <th>high_price</th>\n",
       "      <th>low_price</th>\n",
       "      <th>close_price</th>\n",
       "      <th>adjclose_price</th>\n",
       "      <th>volume</th>\n",
       "      <th>previous_close</th>\n",
       "      <th>stock_trend_prediction</th>\n",
       "      <th>weighted_sentiment</th>\n",
       "    </tr>\n",
       "  </thead>\n",
       "  <tbody>\n",
       "    <tr>\n",
       "      <th>0</th>\n",
       "      <td>0.0138</td>\n",
       "      <td>0</td>\n",
       "      <td>2021-05-01</td>\n",
       "      <td>43.750000</td>\n",
       "      <td>45.950001</td>\n",
       "      <td>43.174999</td>\n",
       "      <td>43.397499</td>\n",
       "      <td>43.397499</td>\n",
       "      <td>17734400</td>\n",
       "      <td>44.047501</td>\n",
       "      <td>0</td>\n",
       "      <td>0.0000</td>\n",
       "    </tr>\n",
       "    <tr>\n",
       "      <th>1</th>\n",
       "      <td>0.9558</td>\n",
       "      <td>1</td>\n",
       "      <td>2021-05-01</td>\n",
       "      <td>43.750000</td>\n",
       "      <td>45.950001</td>\n",
       "      <td>43.174999</td>\n",
       "      <td>43.397499</td>\n",
       "      <td>43.397499</td>\n",
       "      <td>17734400</td>\n",
       "      <td>44.047501</td>\n",
       "      <td>0</td>\n",
       "      <td>0.9558</td>\n",
       "    </tr>\n",
       "    <tr>\n",
       "      <th>2</th>\n",
       "      <td>0.5106</td>\n",
       "      <td>15</td>\n",
       "      <td>2021-05-01</td>\n",
       "      <td>43.750000</td>\n",
       "      <td>45.950001</td>\n",
       "      <td>43.174999</td>\n",
       "      <td>43.397499</td>\n",
       "      <td>43.397499</td>\n",
       "      <td>17734400</td>\n",
       "      <td>44.047501</td>\n",
       "      <td>0</td>\n",
       "      <td>7.6590</td>\n",
       "    </tr>\n",
       "    <tr>\n",
       "      <th>3</th>\n",
       "      <td>0.6597</td>\n",
       "      <td>2</td>\n",
       "      <td>2021-05-01</td>\n",
       "      <td>43.750000</td>\n",
       "      <td>45.950001</td>\n",
       "      <td>43.174999</td>\n",
       "      <td>43.397499</td>\n",
       "      <td>43.397499</td>\n",
       "      <td>17734400</td>\n",
       "      <td>44.047501</td>\n",
       "      <td>0</td>\n",
       "      <td>1.3194</td>\n",
       "    </tr>\n",
       "    <tr>\n",
       "      <th>4</th>\n",
       "      <td>-0.2918</td>\n",
       "      <td>4</td>\n",
       "      <td>2021-05-01</td>\n",
       "      <td>43.750000</td>\n",
       "      <td>45.950001</td>\n",
       "      <td>43.174999</td>\n",
       "      <td>43.397499</td>\n",
       "      <td>43.397499</td>\n",
       "      <td>17734400</td>\n",
       "      <td>44.047501</td>\n",
       "      <td>0</td>\n",
       "      <td>-1.1672</td>\n",
       "    </tr>\n",
       "    <tr>\n",
       "      <th>...</th>\n",
       "      <td>...</td>\n",
       "      <td>...</td>\n",
       "      <td>...</td>\n",
       "      <td>...</td>\n",
       "      <td>...</td>\n",
       "      <td>...</td>\n",
       "      <td>...</td>\n",
       "      <td>...</td>\n",
       "      <td>...</td>\n",
       "      <td>...</td>\n",
       "      <td>...</td>\n",
       "      <td>...</td>\n",
       "    </tr>\n",
       "    <tr>\n",
       "      <th>49994</th>\n",
       "      <td>0.5255</td>\n",
       "      <td>4</td>\n",
       "      <td>2021-10-31</td>\n",
       "      <td>45.702499</td>\n",
       "      <td>46.437500</td>\n",
       "      <td>44.500000</td>\n",
       "      <td>45.877499</td>\n",
       "      <td>45.877499</td>\n",
       "      <td>9176000</td>\n",
       "      <td>45.712502</td>\n",
       "      <td>1</td>\n",
       "      <td>2.1020</td>\n",
       "    </tr>\n",
       "    <tr>\n",
       "      <th>49996</th>\n",
       "      <td>0.0000</td>\n",
       "      <td>6</td>\n",
       "      <td>2021-10-31</td>\n",
       "      <td>45.702499</td>\n",
       "      <td>46.437500</td>\n",
       "      <td>44.500000</td>\n",
       "      <td>45.877499</td>\n",
       "      <td>45.877499</td>\n",
       "      <td>9176000</td>\n",
       "      <td>45.712502</td>\n",
       "      <td>1</td>\n",
       "      <td>0.0000</td>\n",
       "    </tr>\n",
       "    <tr>\n",
       "      <th>49997</th>\n",
       "      <td>-0.5255</td>\n",
       "      <td>3</td>\n",
       "      <td>2021-10-31</td>\n",
       "      <td>45.702499</td>\n",
       "      <td>46.437500</td>\n",
       "      <td>44.500000</td>\n",
       "      <td>45.877499</td>\n",
       "      <td>45.877499</td>\n",
       "      <td>9176000</td>\n",
       "      <td>45.712502</td>\n",
       "      <td>1</td>\n",
       "      <td>-1.5765</td>\n",
       "    </tr>\n",
       "    <tr>\n",
       "      <th>49998</th>\n",
       "      <td>0.4576</td>\n",
       "      <td>1</td>\n",
       "      <td>2021-10-31</td>\n",
       "      <td>45.702499</td>\n",
       "      <td>46.437500</td>\n",
       "      <td>44.500000</td>\n",
       "      <td>45.877499</td>\n",
       "      <td>45.877499</td>\n",
       "      <td>9176000</td>\n",
       "      <td>45.712502</td>\n",
       "      <td>1</td>\n",
       "      <td>0.4576</td>\n",
       "    </tr>\n",
       "    <tr>\n",
       "      <th>49999</th>\n",
       "      <td>0.0000</td>\n",
       "      <td>8</td>\n",
       "      <td>2021-10-31</td>\n",
       "      <td>45.702499</td>\n",
       "      <td>46.437500</td>\n",
       "      <td>44.500000</td>\n",
       "      <td>45.877499</td>\n",
       "      <td>45.877499</td>\n",
       "      <td>9176000</td>\n",
       "      <td>45.712502</td>\n",
       "      <td>1</td>\n",
       "      <td>0.0000</td>\n",
       "    </tr>\n",
       "  </tbody>\n",
       "</table>\n",
       "<p>47340 rows × 12 columns</p>\n",
       "</div>"
      ],
      "text/plain": [
       "       sentiment  score        date  open_price  high_price  low_price  \\\n",
       "0         0.0138      0  2021-05-01   43.750000   45.950001  43.174999   \n",
       "1         0.9558      1  2021-05-01   43.750000   45.950001  43.174999   \n",
       "2         0.5106     15  2021-05-01   43.750000   45.950001  43.174999   \n",
       "3         0.6597      2  2021-05-01   43.750000   45.950001  43.174999   \n",
       "4        -0.2918      4  2021-05-01   43.750000   45.950001  43.174999   \n",
       "...          ...    ...         ...         ...         ...        ...   \n",
       "49994     0.5255      4  2021-10-31   45.702499   46.437500  44.500000   \n",
       "49996     0.0000      6  2021-10-31   45.702499   46.437500  44.500000   \n",
       "49997    -0.5255      3  2021-10-31   45.702499   46.437500  44.500000   \n",
       "49998     0.4576      1  2021-10-31   45.702499   46.437500  44.500000   \n",
       "49999     0.0000      8  2021-10-31   45.702499   46.437500  44.500000   \n",
       "\n",
       "       close_price  adjclose_price    volume  previous_close  \\\n",
       "0        43.397499       43.397499  17734400       44.047501   \n",
       "1        43.397499       43.397499  17734400       44.047501   \n",
       "2        43.397499       43.397499  17734400       44.047501   \n",
       "3        43.397499       43.397499  17734400       44.047501   \n",
       "4        43.397499       43.397499  17734400       44.047501   \n",
       "...            ...             ...       ...             ...   \n",
       "49994    45.877499       45.877499   9176000       45.712502   \n",
       "49996    45.877499       45.877499   9176000       45.712502   \n",
       "49997    45.877499       45.877499   9176000       45.712502   \n",
       "49998    45.877499       45.877499   9176000       45.712502   \n",
       "49999    45.877499       45.877499   9176000       45.712502   \n",
       "\n",
       "       stock_trend_prediction  weighted_sentiment  \n",
       "0                           0              0.0000  \n",
       "1                           0              0.9558  \n",
       "2                           0              7.6590  \n",
       "3                           0              1.3194  \n",
       "4                           0             -1.1672  \n",
       "...                       ...                 ...  \n",
       "49994                       1              2.1020  \n",
       "49996                       1              0.0000  \n",
       "49997                       1             -1.5765  \n",
       "49998                       1              0.4576  \n",
       "49999                       1              0.0000  \n",
       "\n",
       "[47340 rows x 12 columns]"
      ]
     },
     "execution_count": 450,
     "metadata": {},
     "output_type": "execute_result"
    }
   ],
   "source": [
    "df"
   ]
  },
  {
   "cell_type": "code",
   "execution_count": 451,
   "id": "b1e687c4-8bb3-4f0b-8a76-df06dc14e594",
   "metadata": {},
   "outputs": [],
   "source": [
    "# total_weighted_sentiment = df.groupby('date')['weighted_sentiment'].sum().reset_index()\n",
    "total_weighted_score = df.groupby('date').agg({'weighted_sentiment': 'sum', 'score': 'sum'}).reset_index()\n",
    "\n",
    "new_df = pd.DataFrame(total_weighted_sentiment)"
   ]
  },
  {
   "cell_type": "code",
   "execution_count": 452,
   "id": "952f72e1-895f-4d82-91c5-d8fcd5ad0188",
   "metadata": {},
   "outputs": [
    {
     "name": "stdout",
     "output_type": "stream",
     "text": [
      "<class 'pandas.core.frame.DataFrame'>\n",
      "RangeIndex: 184 entries, 0 to 183\n",
      "Data columns (total 2 columns):\n",
      " #   Column              Non-Null Count  Dtype  \n",
      "---  ------              --------------  -----  \n",
      " 0   date                184 non-null    object \n",
      " 1   weighted_sentiment  184 non-null    float64\n",
      "dtypes: float64(1), object(1)\n",
      "memory usage: 3.0+ KB\n"
     ]
    }
   ],
   "source": [
    "new_df.info()"
   ]
  },
  {
   "cell_type": "code",
   "execution_count": 453,
   "id": "320019ce-dbe4-4b51-b9e3-05bddcc8a2b5",
   "metadata": {},
   "outputs": [
    {
     "data": {
      "text/html": [
       "<div>\n",
       "<style scoped>\n",
       "    .dataframe tbody tr th:only-of-type {\n",
       "        vertical-align: middle;\n",
       "    }\n",
       "\n",
       "    .dataframe tbody tr th {\n",
       "        vertical-align: top;\n",
       "    }\n",
       "\n",
       "    .dataframe thead th {\n",
       "        text-align: right;\n",
       "    }\n",
       "</style>\n",
       "<table border=\"1\" class=\"dataframe\">\n",
       "  <thead>\n",
       "    <tr style=\"text-align: right;\">\n",
       "      <th></th>\n",
       "      <th>date</th>\n",
       "      <th>weighted_sentiment</th>\n",
       "    </tr>\n",
       "  </thead>\n",
       "  <tbody>\n",
       "    <tr>\n",
       "      <th>0</th>\n",
       "      <td>2021-05-01</td>\n",
       "      <td>351.3956</td>\n",
       "    </tr>\n",
       "    <tr>\n",
       "      <th>1</th>\n",
       "      <td>2021-05-02</td>\n",
       "      <td>-332.1862</td>\n",
       "    </tr>\n",
       "    <tr>\n",
       "      <th>2</th>\n",
       "      <td>2021-05-03</td>\n",
       "      <td>108.1881</td>\n",
       "    </tr>\n",
       "    <tr>\n",
       "      <th>3</th>\n",
       "      <td>2021-05-04</td>\n",
       "      <td>248.7189</td>\n",
       "    </tr>\n",
       "    <tr>\n",
       "      <th>4</th>\n",
       "      <td>2021-05-05</td>\n",
       "      <td>204.8666</td>\n",
       "    </tr>\n",
       "    <tr>\n",
       "      <th>...</th>\n",
       "      <td>...</td>\n",
       "      <td>...</td>\n",
       "    </tr>\n",
       "    <tr>\n",
       "      <th>179</th>\n",
       "      <td>2021-10-27</td>\n",
       "      <td>647.7867</td>\n",
       "    </tr>\n",
       "    <tr>\n",
       "      <th>180</th>\n",
       "      <td>2021-10-28</td>\n",
       "      <td>354.9733</td>\n",
       "    </tr>\n",
       "    <tr>\n",
       "      <th>181</th>\n",
       "      <td>2021-10-29</td>\n",
       "      <td>1587.1637</td>\n",
       "    </tr>\n",
       "    <tr>\n",
       "      <th>182</th>\n",
       "      <td>2021-10-30</td>\n",
       "      <td>187.0281</td>\n",
       "    </tr>\n",
       "    <tr>\n",
       "      <th>183</th>\n",
       "      <td>2021-10-31</td>\n",
       "      <td>71.5106</td>\n",
       "    </tr>\n",
       "  </tbody>\n",
       "</table>\n",
       "<p>184 rows × 2 columns</p>\n",
       "</div>"
      ],
      "text/plain": [
       "           date  weighted_sentiment\n",
       "0    2021-05-01            351.3956\n",
       "1    2021-05-02           -332.1862\n",
       "2    2021-05-03            108.1881\n",
       "3    2021-05-04            248.7189\n",
       "4    2021-05-05            204.8666\n",
       "..          ...                 ...\n",
       "179  2021-10-27            647.7867\n",
       "180  2021-10-28            354.9733\n",
       "181  2021-10-29           1587.1637\n",
       "182  2021-10-30            187.0281\n",
       "183  2021-10-31             71.5106\n",
       "\n",
       "[184 rows x 2 columns]"
      ]
     },
     "execution_count": 453,
     "metadata": {},
     "output_type": "execute_result"
    }
   ],
   "source": [
    "new_df"
   ]
  },
  {
   "cell_type": "code",
   "execution_count": 454,
   "id": "460055e9-bfbe-4523-8b2b-7609e67e6d44",
   "metadata": {},
   "outputs": [],
   "source": [
    "gme_df = pd.read_csv('datasets/gme_for_forest.csv')"
   ]
  },
  {
   "cell_type": "code",
   "execution_count": 455,
   "id": "ea282ffa-c740-4b7c-99b0-a03b2502cf4f",
   "metadata": {},
   "outputs": [],
   "source": [
    "# gme_df"
   ]
  },
  {
   "cell_type": "code",
   "execution_count": 456,
   "id": "97fb2659-e19b-4fe8-a757-4ee65623c5f1",
   "metadata": {},
   "outputs": [],
   "source": [
    "new_df['date'] = pd.to_datetime(new_df['date'])\n",
    "gme_df['date'] = pd.to_datetime(gme_df['date'])\n",
    "gme_df = gme_df.sort_values('date')\n",
    "merged_df = pd.merge_asof(new_df.sort_values('date'), gme_df, left_on='date', right_on='date', direction='backward')"
   ]
  },
  {
   "cell_type": "code",
   "execution_count": 457,
   "id": "663eb489-92a2-4075-8765-87ff1ed5b915",
   "metadata": {},
   "outputs": [
    {
     "data": {
      "text/html": [
       "<div>\n",
       "<style scoped>\n",
       "    .dataframe tbody tr th:only-of-type {\n",
       "        vertical-align: middle;\n",
       "    }\n",
       "\n",
       "    .dataframe tbody tr th {\n",
       "        vertical-align: top;\n",
       "    }\n",
       "\n",
       "    .dataframe thead th {\n",
       "        text-align: right;\n",
       "    }\n",
       "</style>\n",
       "<table border=\"1\" class=\"dataframe\">\n",
       "  <thead>\n",
       "    <tr style=\"text-align: right;\">\n",
       "      <th></th>\n",
       "      <th>date</th>\n",
       "      <th>weighted_sentiment</th>\n",
       "      <th>open_price</th>\n",
       "      <th>high_price</th>\n",
       "      <th>low_price</th>\n",
       "      <th>close_price</th>\n",
       "      <th>adjclose_price</th>\n",
       "      <th>volume</th>\n",
       "      <th>previous_close</th>\n",
       "      <th>price_movement</th>\n",
       "      <th>price_movement_tomorrow</th>\n",
       "    </tr>\n",
       "  </thead>\n",
       "  <tbody>\n",
       "    <tr>\n",
       "      <th>0</th>\n",
       "      <td>2021-05-01</td>\n",
       "      <td>351.3956</td>\n",
       "      <td>43.750000</td>\n",
       "      <td>45.950001</td>\n",
       "      <td>43.174999</td>\n",
       "      <td>43.397499</td>\n",
       "      <td>43.397499</td>\n",
       "      <td>17734400</td>\n",
       "      <td>44.047501</td>\n",
       "      <td>-1.475684</td>\n",
       "      <td>-1.338334</td>\n",
       "    </tr>\n",
       "    <tr>\n",
       "      <th>1</th>\n",
       "      <td>2021-05-02</td>\n",
       "      <td>-332.1862</td>\n",
       "      <td>43.750000</td>\n",
       "      <td>45.950001</td>\n",
       "      <td>43.174999</td>\n",
       "      <td>43.397499</td>\n",
       "      <td>43.397499</td>\n",
       "      <td>17734400</td>\n",
       "      <td>44.047501</td>\n",
       "      <td>-1.475684</td>\n",
       "      <td>-1.338334</td>\n",
       "    </tr>\n",
       "    <tr>\n",
       "      <th>2</th>\n",
       "      <td>2021-05-03</td>\n",
       "      <td>108.1881</td>\n",
       "      <td>44.372501</td>\n",
       "      <td>44.372501</td>\n",
       "      <td>39.902500</td>\n",
       "      <td>40.549999</td>\n",
       "      <td>40.549999</td>\n",
       "      <td>21044000</td>\n",
       "      <td>43.397499</td>\n",
       "      <td>-6.561438</td>\n",
       "      <td>-1.475684</td>\n",
       "    </tr>\n",
       "    <tr>\n",
       "      <th>3</th>\n",
       "      <td>2021-05-04</td>\n",
       "      <td>248.7189</td>\n",
       "      <td>39.750000</td>\n",
       "      <td>40.372501</td>\n",
       "      <td>37.950001</td>\n",
       "      <td>40.182499</td>\n",
       "      <td>40.182499</td>\n",
       "      <td>16030000</td>\n",
       "      <td>40.549999</td>\n",
       "      <td>-0.906289</td>\n",
       "      <td>-6.561438</td>\n",
       "    </tr>\n",
       "    <tr>\n",
       "      <th>4</th>\n",
       "      <td>2021-05-05</td>\n",
       "      <td>204.8666</td>\n",
       "      <td>40.457500</td>\n",
       "      <td>41.375000</td>\n",
       "      <td>39.582500</td>\n",
       "      <td>39.869999</td>\n",
       "      <td>39.869999</td>\n",
       "      <td>11221600</td>\n",
       "      <td>40.182499</td>\n",
       "      <td>-0.777702</td>\n",
       "      <td>-0.906289</td>\n",
       "    </tr>\n",
       "    <tr>\n",
       "      <th>...</th>\n",
       "      <td>...</td>\n",
       "      <td>...</td>\n",
       "      <td>...</td>\n",
       "      <td>...</td>\n",
       "      <td>...</td>\n",
       "      <td>...</td>\n",
       "      <td>...</td>\n",
       "      <td>...</td>\n",
       "      <td>...</td>\n",
       "      <td>...</td>\n",
       "      <td>...</td>\n",
       "    </tr>\n",
       "    <tr>\n",
       "      <th>179</th>\n",
       "      <td>2021-10-27</td>\n",
       "      <td>647.7867</td>\n",
       "      <td>45.000000</td>\n",
       "      <td>45.772499</td>\n",
       "      <td>43.082500</td>\n",
       "      <td>43.377499</td>\n",
       "      <td>43.377499</td>\n",
       "      <td>4428000</td>\n",
       "      <td>44.459999</td>\n",
       "      <td>-2.434773</td>\n",
       "      <td>2.224519</td>\n",
       "    </tr>\n",
       "    <tr>\n",
       "      <th>180</th>\n",
       "      <td>2021-10-28</td>\n",
       "      <td>354.9733</td>\n",
       "      <td>43.790001</td>\n",
       "      <td>45.785000</td>\n",
       "      <td>43.750000</td>\n",
       "      <td>45.712502</td>\n",
       "      <td>45.712502</td>\n",
       "      <td>6784800</td>\n",
       "      <td>43.377499</td>\n",
       "      <td>5.382982</td>\n",
       "      <td>-2.434773</td>\n",
       "    </tr>\n",
       "    <tr>\n",
       "      <th>181</th>\n",
       "      <td>2021-10-29</td>\n",
       "      <td>1587.1637</td>\n",
       "      <td>45.702499</td>\n",
       "      <td>46.437500</td>\n",
       "      <td>44.500000</td>\n",
       "      <td>45.877499</td>\n",
       "      <td>45.877499</td>\n",
       "      <td>9176000</td>\n",
       "      <td>45.712502</td>\n",
       "      <td>0.360945</td>\n",
       "      <td>5.382982</td>\n",
       "    </tr>\n",
       "    <tr>\n",
       "      <th>182</th>\n",
       "      <td>2021-10-30</td>\n",
       "      <td>187.0281</td>\n",
       "      <td>45.702499</td>\n",
       "      <td>46.437500</td>\n",
       "      <td>44.500000</td>\n",
       "      <td>45.877499</td>\n",
       "      <td>45.877499</td>\n",
       "      <td>9176000</td>\n",
       "      <td>45.712502</td>\n",
       "      <td>0.360945</td>\n",
       "      <td>5.382982</td>\n",
       "    </tr>\n",
       "    <tr>\n",
       "      <th>183</th>\n",
       "      <td>2021-10-31</td>\n",
       "      <td>71.5106</td>\n",
       "      <td>45.702499</td>\n",
       "      <td>46.437500</td>\n",
       "      <td>44.500000</td>\n",
       "      <td>45.877499</td>\n",
       "      <td>45.877499</td>\n",
       "      <td>9176000</td>\n",
       "      <td>45.712502</td>\n",
       "      <td>0.360945</td>\n",
       "      <td>5.382982</td>\n",
       "    </tr>\n",
       "  </tbody>\n",
       "</table>\n",
       "<p>184 rows × 11 columns</p>\n",
       "</div>"
      ],
      "text/plain": [
       "          date  weighted_sentiment  open_price  high_price  low_price  \\\n",
       "0   2021-05-01            351.3956   43.750000   45.950001  43.174999   \n",
       "1   2021-05-02           -332.1862   43.750000   45.950001  43.174999   \n",
       "2   2021-05-03            108.1881   44.372501   44.372501  39.902500   \n",
       "3   2021-05-04            248.7189   39.750000   40.372501  37.950001   \n",
       "4   2021-05-05            204.8666   40.457500   41.375000  39.582500   \n",
       "..         ...                 ...         ...         ...        ...   \n",
       "179 2021-10-27            647.7867   45.000000   45.772499  43.082500   \n",
       "180 2021-10-28            354.9733   43.790001   45.785000  43.750000   \n",
       "181 2021-10-29           1587.1637   45.702499   46.437500  44.500000   \n",
       "182 2021-10-30            187.0281   45.702499   46.437500  44.500000   \n",
       "183 2021-10-31             71.5106   45.702499   46.437500  44.500000   \n",
       "\n",
       "     close_price  adjclose_price    volume  previous_close  price_movement  \\\n",
       "0      43.397499       43.397499  17734400       44.047501       -1.475684   \n",
       "1      43.397499       43.397499  17734400       44.047501       -1.475684   \n",
       "2      40.549999       40.549999  21044000       43.397499       -6.561438   \n",
       "3      40.182499       40.182499  16030000       40.549999       -0.906289   \n",
       "4      39.869999       39.869999  11221600       40.182499       -0.777702   \n",
       "..           ...             ...       ...             ...             ...   \n",
       "179    43.377499       43.377499   4428000       44.459999       -2.434773   \n",
       "180    45.712502       45.712502   6784800       43.377499        5.382982   \n",
       "181    45.877499       45.877499   9176000       45.712502        0.360945   \n",
       "182    45.877499       45.877499   9176000       45.712502        0.360945   \n",
       "183    45.877499       45.877499   9176000       45.712502        0.360945   \n",
       "\n",
       "     price_movement_tomorrow  \n",
       "0                  -1.338334  \n",
       "1                  -1.338334  \n",
       "2                  -1.475684  \n",
       "3                  -6.561438  \n",
       "4                  -0.906289  \n",
       "..                       ...  \n",
       "179                 2.224519  \n",
       "180                -2.434773  \n",
       "181                 5.382982  \n",
       "182                 5.382982  \n",
       "183                 5.382982  \n",
       "\n",
       "[184 rows x 11 columns]"
      ]
     },
     "execution_count": 457,
     "metadata": {},
     "output_type": "execute_result"
    }
   ],
   "source": [
    "merged_df"
   ]
  },
  {
   "cell_type": "code",
   "execution_count": 458,
   "id": "8d97fb03-3933-43af-8a8c-3ead83e086a2",
   "metadata": {},
   "outputs": [],
   "source": [
    "new_df['date'] = pd.to_datetime(new_df['date'])"
   ]
  },
  {
   "cell_type": "code",
   "execution_count": 459,
   "id": "26401589-4c3c-49ff-9a6c-5ab79ebfbdc1",
   "metadata": {},
   "outputs": [],
   "source": [
    "new_df['date'] = new_df['date'].astype(int) // 10**9  "
   ]
  },
  {
   "cell_type": "code",
   "execution_count": 460,
   "id": "63a265b0-3cfc-4fe2-974c-d4f65452f6fc",
   "metadata": {},
   "outputs": [
    {
     "data": {
      "text/html": [
       "<div>\n",
       "<style scoped>\n",
       "    .dataframe tbody tr th:only-of-type {\n",
       "        vertical-align: middle;\n",
       "    }\n",
       "\n",
       "    .dataframe tbody tr th {\n",
       "        vertical-align: top;\n",
       "    }\n",
       "\n",
       "    .dataframe thead th {\n",
       "        text-align: right;\n",
       "    }\n",
       "</style>\n",
       "<table border=\"1\" class=\"dataframe\">\n",
       "  <thead>\n",
       "    <tr style=\"text-align: right;\">\n",
       "      <th></th>\n",
       "      <th>date</th>\n",
       "      <th>weighted_sentiment</th>\n",
       "    </tr>\n",
       "  </thead>\n",
       "  <tbody>\n",
       "    <tr>\n",
       "      <th>0</th>\n",
       "      <td>1619827200</td>\n",
       "      <td>351.3956</td>\n",
       "    </tr>\n",
       "    <tr>\n",
       "      <th>1</th>\n",
       "      <td>1619913600</td>\n",
       "      <td>-332.1862</td>\n",
       "    </tr>\n",
       "    <tr>\n",
       "      <th>2</th>\n",
       "      <td>1620000000</td>\n",
       "      <td>108.1881</td>\n",
       "    </tr>\n",
       "    <tr>\n",
       "      <th>3</th>\n",
       "      <td>1620086400</td>\n",
       "      <td>248.7189</td>\n",
       "    </tr>\n",
       "    <tr>\n",
       "      <th>4</th>\n",
       "      <td>1620172800</td>\n",
       "      <td>204.8666</td>\n",
       "    </tr>\n",
       "    <tr>\n",
       "      <th>...</th>\n",
       "      <td>...</td>\n",
       "      <td>...</td>\n",
       "    </tr>\n",
       "    <tr>\n",
       "      <th>179</th>\n",
       "      <td>1635292800</td>\n",
       "      <td>647.7867</td>\n",
       "    </tr>\n",
       "    <tr>\n",
       "      <th>180</th>\n",
       "      <td>1635379200</td>\n",
       "      <td>354.9733</td>\n",
       "    </tr>\n",
       "    <tr>\n",
       "      <th>181</th>\n",
       "      <td>1635465600</td>\n",
       "      <td>1587.1637</td>\n",
       "    </tr>\n",
       "    <tr>\n",
       "      <th>182</th>\n",
       "      <td>1635552000</td>\n",
       "      <td>187.0281</td>\n",
       "    </tr>\n",
       "    <tr>\n",
       "      <th>183</th>\n",
       "      <td>1635638400</td>\n",
       "      <td>71.5106</td>\n",
       "    </tr>\n",
       "  </tbody>\n",
       "</table>\n",
       "<p>184 rows × 2 columns</p>\n",
       "</div>"
      ],
      "text/plain": [
       "           date  weighted_sentiment\n",
       "0    1619827200            351.3956\n",
       "1    1619913600           -332.1862\n",
       "2    1620000000            108.1881\n",
       "3    1620086400            248.7189\n",
       "4    1620172800            204.8666\n",
       "..          ...                 ...\n",
       "179  1635292800            647.7867\n",
       "180  1635379200            354.9733\n",
       "181  1635465600           1587.1637\n",
       "182  1635552000            187.0281\n",
       "183  1635638400             71.5106\n",
       "\n",
       "[184 rows x 2 columns]"
      ]
     },
     "execution_count": 460,
     "metadata": {},
     "output_type": "execute_result"
    }
   ],
   "source": [
    "new_df"
   ]
  },
  {
   "cell_type": "code",
   "execution_count": null,
   "id": "7545762c-1942-4793-972a-b6d2274f236e",
   "metadata": {},
   "outputs": [],
   "source": []
  },
  {
   "cell_type": "code",
   "execution_count": null,
   "id": "b9cebd5d-9642-4cb3-891a-304eb38310ac",
   "metadata": {},
   "outputs": [],
   "source": []
  },
  {
   "cell_type": "code",
   "execution_count": null,
   "id": "114b40b6-2c1d-48ff-8e35-3ad97adfdbb2",
   "metadata": {},
   "outputs": [],
   "source": []
  },
  {
   "cell_type": "code",
   "execution_count": 461,
   "id": "3b57de2a-3d74-42e0-8958-a505543da48b",
   "metadata": {},
   "outputs": [],
   "source": [
    "summed_df['date'] = pd.to_datetime(summed_df['date'])\n",
    "gme_df['date'] = pd.to_datetime(gme_df['date'])\n",
    "gme_df = gme_df.sort_values('date')\n",
    "merged_df = pd.merge_asof(summed_df.sort_values('date'), gme_df, left_on='date', right_on='date', direction='backward')"
   ]
  },
  {
   "cell_type": "code",
   "execution_count": 462,
   "id": "ffd8a1e8-e300-4260-b4c7-134a7d42aca1",
   "metadata": {},
   "outputs": [
    {
     "data": {
      "text/html": [
       "<div>\n",
       "<style scoped>\n",
       "    .dataframe tbody tr th:only-of-type {\n",
       "        vertical-align: middle;\n",
       "    }\n",
       "\n",
       "    .dataframe tbody tr th {\n",
       "        vertical-align: top;\n",
       "    }\n",
       "\n",
       "    .dataframe thead th {\n",
       "        text-align: right;\n",
       "    }\n",
       "</style>\n",
       "<table border=\"1\" class=\"dataframe\">\n",
       "  <thead>\n",
       "    <tr style=\"text-align: right;\">\n",
       "      <th></th>\n",
       "      <th>date</th>\n",
       "      <th>sentiment</th>\n",
       "      <th>score</th>\n",
       "      <th>stock_trend_prediction</th>\n",
       "      <th>open_price</th>\n",
       "      <th>high_price</th>\n",
       "      <th>low_price</th>\n",
       "      <th>close_price</th>\n",
       "      <th>adjclose_price</th>\n",
       "      <th>volume</th>\n",
       "      <th>previous_close</th>\n",
       "      <th>price_movement</th>\n",
       "      <th>price_movement_tomorrow</th>\n",
       "    </tr>\n",
       "  </thead>\n",
       "  <tbody>\n",
       "    <tr>\n",
       "      <th>0</th>\n",
       "      <td>2021-05-01</td>\n",
       "      <td>33.9188</td>\n",
       "      <td>871</td>\n",
       "      <td>0</td>\n",
       "      <td>43.750000</td>\n",
       "      <td>45.950001</td>\n",
       "      <td>43.174999</td>\n",
       "      <td>43.397499</td>\n",
       "      <td>43.397499</td>\n",
       "      <td>17734400</td>\n",
       "      <td>44.047501</td>\n",
       "      <td>-1.475684</td>\n",
       "      <td>-1.338334</td>\n",
       "    </tr>\n",
       "    <tr>\n",
       "      <th>1</th>\n",
       "      <td>2021-05-02</td>\n",
       "      <td>38.0589</td>\n",
       "      <td>2136</td>\n",
       "      <td>0</td>\n",
       "      <td>43.750000</td>\n",
       "      <td>45.950001</td>\n",
       "      <td>43.174999</td>\n",
       "      <td>43.397499</td>\n",
       "      <td>43.397499</td>\n",
       "      <td>17734400</td>\n",
       "      <td>44.047501</td>\n",
       "      <td>-1.475684</td>\n",
       "      <td>-1.338334</td>\n",
       "    </tr>\n",
       "    <tr>\n",
       "      <th>2</th>\n",
       "      <td>2021-05-03</td>\n",
       "      <td>55.4247</td>\n",
       "      <td>5117</td>\n",
       "      <td>0</td>\n",
       "      <td>44.372501</td>\n",
       "      <td>44.372501</td>\n",
       "      <td>39.902500</td>\n",
       "      <td>40.549999</td>\n",
       "      <td>40.549999</td>\n",
       "      <td>21044000</td>\n",
       "      <td>43.397499</td>\n",
       "      <td>-6.561438</td>\n",
       "      <td>-1.475684</td>\n",
       "    </tr>\n",
       "    <tr>\n",
       "      <th>3</th>\n",
       "      <td>2021-05-04</td>\n",
       "      <td>47.8221</td>\n",
       "      <td>3624</td>\n",
       "      <td>0</td>\n",
       "      <td>39.750000</td>\n",
       "      <td>40.372501</td>\n",
       "      <td>37.950001</td>\n",
       "      <td>40.182499</td>\n",
       "      <td>40.182499</td>\n",
       "      <td>16030000</td>\n",
       "      <td>40.549999</td>\n",
       "      <td>-0.906289</td>\n",
       "      <td>-6.561438</td>\n",
       "    </tr>\n",
       "    <tr>\n",
       "      <th>4</th>\n",
       "      <td>2021-05-05</td>\n",
       "      <td>81.2476</td>\n",
       "      <td>4818</td>\n",
       "      <td>0</td>\n",
       "      <td>40.457500</td>\n",
       "      <td>41.375000</td>\n",
       "      <td>39.582500</td>\n",
       "      <td>39.869999</td>\n",
       "      <td>39.869999</td>\n",
       "      <td>11221600</td>\n",
       "      <td>40.182499</td>\n",
       "      <td>-0.777702</td>\n",
       "      <td>-0.906289</td>\n",
       "    </tr>\n",
       "    <tr>\n",
       "      <th>...</th>\n",
       "      <td>...</td>\n",
       "      <td>...</td>\n",
       "      <td>...</td>\n",
       "      <td>...</td>\n",
       "      <td>...</td>\n",
       "      <td>...</td>\n",
       "      <td>...</td>\n",
       "      <td>...</td>\n",
       "      <td>...</td>\n",
       "      <td>...</td>\n",
       "      <td>...</td>\n",
       "      <td>...</td>\n",
       "      <td>...</td>\n",
       "    </tr>\n",
       "    <tr>\n",
       "      <th>179</th>\n",
       "      <td>2021-10-27</td>\n",
       "      <td>41.7514</td>\n",
       "      <td>2058</td>\n",
       "      <td>1</td>\n",
       "      <td>45.000000</td>\n",
       "      <td>45.772499</td>\n",
       "      <td>43.082500</td>\n",
       "      <td>43.377499</td>\n",
       "      <td>43.377499</td>\n",
       "      <td>4428000</td>\n",
       "      <td>44.459999</td>\n",
       "      <td>-2.434773</td>\n",
       "      <td>2.224519</td>\n",
       "    </tr>\n",
       "    <tr>\n",
       "      <th>180</th>\n",
       "      <td>2021-10-28</td>\n",
       "      <td>47.3124</td>\n",
       "      <td>1724</td>\n",
       "      <td>0</td>\n",
       "      <td>43.790001</td>\n",
       "      <td>45.785000</td>\n",
       "      <td>43.750000</td>\n",
       "      <td>45.712502</td>\n",
       "      <td>45.712502</td>\n",
       "      <td>6784800</td>\n",
       "      <td>43.377499</td>\n",
       "      <td>5.382982</td>\n",
       "      <td>-2.434773</td>\n",
       "    </tr>\n",
       "    <tr>\n",
       "      <th>181</th>\n",
       "      <td>2021-10-29</td>\n",
       "      <td>97.8517</td>\n",
       "      <td>3169</td>\n",
       "      <td>1</td>\n",
       "      <td>45.702499</td>\n",
       "      <td>46.437500</td>\n",
       "      <td>44.500000</td>\n",
       "      <td>45.877499</td>\n",
       "      <td>45.877499</td>\n",
       "      <td>9176000</td>\n",
       "      <td>45.712502</td>\n",
       "      <td>0.360945</td>\n",
       "      <td>5.382982</td>\n",
       "    </tr>\n",
       "    <tr>\n",
       "      <th>182</th>\n",
       "      <td>2021-10-30</td>\n",
       "      <td>44.1588</td>\n",
       "      <td>683</td>\n",
       "      <td>1</td>\n",
       "      <td>45.702499</td>\n",
       "      <td>46.437500</td>\n",
       "      <td>44.500000</td>\n",
       "      <td>45.877499</td>\n",
       "      <td>45.877499</td>\n",
       "      <td>9176000</td>\n",
       "      <td>45.712502</td>\n",
       "      <td>0.360945</td>\n",
       "      <td>5.382982</td>\n",
       "    </tr>\n",
       "    <tr>\n",
       "      <th>183</th>\n",
       "      <td>2021-10-31</td>\n",
       "      <td>30.1968</td>\n",
       "      <td>569</td>\n",
       "      <td>1</td>\n",
       "      <td>45.702499</td>\n",
       "      <td>46.437500</td>\n",
       "      <td>44.500000</td>\n",
       "      <td>45.877499</td>\n",
       "      <td>45.877499</td>\n",
       "      <td>9176000</td>\n",
       "      <td>45.712502</td>\n",
       "      <td>0.360945</td>\n",
       "      <td>5.382982</td>\n",
       "    </tr>\n",
       "  </tbody>\n",
       "</table>\n",
       "<p>184 rows × 13 columns</p>\n",
       "</div>"
      ],
      "text/plain": [
       "          date  sentiment  score  stock_trend_prediction  open_price  \\\n",
       "0   2021-05-01    33.9188    871                       0   43.750000   \n",
       "1   2021-05-02    38.0589   2136                       0   43.750000   \n",
       "2   2021-05-03    55.4247   5117                       0   44.372501   \n",
       "3   2021-05-04    47.8221   3624                       0   39.750000   \n",
       "4   2021-05-05    81.2476   4818                       0   40.457500   \n",
       "..         ...        ...    ...                     ...         ...   \n",
       "179 2021-10-27    41.7514   2058                       1   45.000000   \n",
       "180 2021-10-28    47.3124   1724                       0   43.790001   \n",
       "181 2021-10-29    97.8517   3169                       1   45.702499   \n",
       "182 2021-10-30    44.1588    683                       1   45.702499   \n",
       "183 2021-10-31    30.1968    569                       1   45.702499   \n",
       "\n",
       "     high_price  low_price  close_price  adjclose_price    volume  \\\n",
       "0     45.950001  43.174999    43.397499       43.397499  17734400   \n",
       "1     45.950001  43.174999    43.397499       43.397499  17734400   \n",
       "2     44.372501  39.902500    40.549999       40.549999  21044000   \n",
       "3     40.372501  37.950001    40.182499       40.182499  16030000   \n",
       "4     41.375000  39.582500    39.869999       39.869999  11221600   \n",
       "..          ...        ...          ...             ...       ...   \n",
       "179   45.772499  43.082500    43.377499       43.377499   4428000   \n",
       "180   45.785000  43.750000    45.712502       45.712502   6784800   \n",
       "181   46.437500  44.500000    45.877499       45.877499   9176000   \n",
       "182   46.437500  44.500000    45.877499       45.877499   9176000   \n",
       "183   46.437500  44.500000    45.877499       45.877499   9176000   \n",
       "\n",
       "     previous_close  price_movement  price_movement_tomorrow  \n",
       "0         44.047501       -1.475684                -1.338334  \n",
       "1         44.047501       -1.475684                -1.338334  \n",
       "2         43.397499       -6.561438                -1.475684  \n",
       "3         40.549999       -0.906289                -6.561438  \n",
       "4         40.182499       -0.777702                -0.906289  \n",
       "..              ...             ...                      ...  \n",
       "179       44.459999       -2.434773                 2.224519  \n",
       "180       43.377499        5.382982                -2.434773  \n",
       "181       45.712502        0.360945                 5.382982  \n",
       "182       45.712502        0.360945                 5.382982  \n",
       "183       45.712502        0.360945                 5.382982  \n",
       "\n",
       "[184 rows x 13 columns]"
      ]
     },
     "execution_count": 462,
     "metadata": {},
     "output_type": "execute_result"
    }
   ],
   "source": [
    "merged_df"
   ]
  },
  {
   "cell_type": "code",
   "execution_count": 463,
   "id": "ab982543-05d4-415b-a651-7c9b6ac07dae",
   "metadata": {},
   "outputs": [],
   "source": [
    "summed_df['date'] = pd.to_datetime(summed_df['date'])"
   ]
  },
  {
   "cell_type": "code",
   "execution_count": 464,
   "id": "f40f1b87-25ef-484a-925a-75fc443f4f7a",
   "metadata": {},
   "outputs": [],
   "source": [
    "summed_df['date'] = summed_df['date'].astype(int) // 10**9  "
   ]
  },
  {
   "cell_type": "code",
   "execution_count": 465,
   "id": "6f590885-048e-4c7f-9f3a-4ae4b9667682",
   "metadata": {},
   "outputs": [
    {
     "name": "stdout",
     "output_type": "stream",
     "text": [
      "<class 'pandas.core.frame.DataFrame'>\n",
      "RangeIndex: 184 entries, 0 to 183\n",
      "Data columns (total 4 columns):\n",
      " #   Column                  Non-Null Count  Dtype  \n",
      "---  ------                  --------------  -----  \n",
      " 0   date                    184 non-null    int64  \n",
      " 1   sentiment               184 non-null    float64\n",
      " 2   score                   184 non-null    int64  \n",
      " 3   stock_trend_prediction  184 non-null    int64  \n",
      "dtypes: float64(1), int64(3)\n",
      "memory usage: 5.9 KB\n"
     ]
    }
   ],
   "source": [
    "summed_df.info()"
   ]
  },
  {
   "cell_type": "code",
   "execution_count": 466,
   "id": "69b82508-7641-47fd-8409-0572784407ed",
   "metadata": {},
   "outputs": [],
   "source": [
    "# import math\n",
    "\n",
    "# summed_df['sentiment'] = summed_df['sentiment'] / math.sqrt(summed_df['score'])\n",
    "\n",
    "# summed_df.drop(columns=['score'], inplace=True)\n",
    "\n",
    "# print(summed_df)"
   ]
  },
  {
   "cell_type": "code",
   "execution_count": 467,
   "id": "a2467a7d-d21a-48f3-a054-51abe1290f62",
   "metadata": {},
   "outputs": [
    {
     "data": {
      "text/html": [
       "<div>\n",
       "<style scoped>\n",
       "    .dataframe tbody tr th:only-of-type {\n",
       "        vertical-align: middle;\n",
       "    }\n",
       "\n",
       "    .dataframe tbody tr th {\n",
       "        vertical-align: top;\n",
       "    }\n",
       "\n",
       "    .dataframe thead th {\n",
       "        text-align: right;\n",
       "    }\n",
       "</style>\n",
       "<table border=\"1\" class=\"dataframe\">\n",
       "  <thead>\n",
       "    <tr style=\"text-align: right;\">\n",
       "      <th></th>\n",
       "      <th>date</th>\n",
       "      <th>sentiment</th>\n",
       "      <th>score</th>\n",
       "      <th>stock_trend_prediction</th>\n",
       "    </tr>\n",
       "  </thead>\n",
       "  <tbody>\n",
       "    <tr>\n",
       "      <th>0</th>\n",
       "      <td>1619827200</td>\n",
       "      <td>33.9188</td>\n",
       "      <td>871</td>\n",
       "      <td>0</td>\n",
       "    </tr>\n",
       "    <tr>\n",
       "      <th>1</th>\n",
       "      <td>1619913600</td>\n",
       "      <td>38.0589</td>\n",
       "      <td>2136</td>\n",
       "      <td>0</td>\n",
       "    </tr>\n",
       "    <tr>\n",
       "      <th>2</th>\n",
       "      <td>1620000000</td>\n",
       "      <td>55.4247</td>\n",
       "      <td>5117</td>\n",
       "      <td>0</td>\n",
       "    </tr>\n",
       "    <tr>\n",
       "      <th>3</th>\n",
       "      <td>1620086400</td>\n",
       "      <td>47.8221</td>\n",
       "      <td>3624</td>\n",
       "      <td>0</td>\n",
       "    </tr>\n",
       "    <tr>\n",
       "      <th>4</th>\n",
       "      <td>1620172800</td>\n",
       "      <td>81.2476</td>\n",
       "      <td>4818</td>\n",
       "      <td>0</td>\n",
       "    </tr>\n",
       "    <tr>\n",
       "      <th>...</th>\n",
       "      <td>...</td>\n",
       "      <td>...</td>\n",
       "      <td>...</td>\n",
       "      <td>...</td>\n",
       "    </tr>\n",
       "    <tr>\n",
       "      <th>179</th>\n",
       "      <td>1635292800</td>\n",
       "      <td>41.7514</td>\n",
       "      <td>2058</td>\n",
       "      <td>1</td>\n",
       "    </tr>\n",
       "    <tr>\n",
       "      <th>180</th>\n",
       "      <td>1635379200</td>\n",
       "      <td>47.3124</td>\n",
       "      <td>1724</td>\n",
       "      <td>0</td>\n",
       "    </tr>\n",
       "    <tr>\n",
       "      <th>181</th>\n",
       "      <td>1635465600</td>\n",
       "      <td>97.8517</td>\n",
       "      <td>3169</td>\n",
       "      <td>1</td>\n",
       "    </tr>\n",
       "    <tr>\n",
       "      <th>182</th>\n",
       "      <td>1635552000</td>\n",
       "      <td>44.1588</td>\n",
       "      <td>683</td>\n",
       "      <td>1</td>\n",
       "    </tr>\n",
       "    <tr>\n",
       "      <th>183</th>\n",
       "      <td>1635638400</td>\n",
       "      <td>30.1968</td>\n",
       "      <td>569</td>\n",
       "      <td>1</td>\n",
       "    </tr>\n",
       "  </tbody>\n",
       "</table>\n",
       "<p>184 rows × 4 columns</p>\n",
       "</div>"
      ],
      "text/plain": [
       "           date  sentiment  score  stock_trend_prediction\n",
       "0    1619827200    33.9188    871                       0\n",
       "1    1619913600    38.0589   2136                       0\n",
       "2    1620000000    55.4247   5117                       0\n",
       "3    1620086400    47.8221   3624                       0\n",
       "4    1620172800    81.2476   4818                       0\n",
       "..          ...        ...    ...                     ...\n",
       "179  1635292800    41.7514   2058                       1\n",
       "180  1635379200    47.3124   1724                       0\n",
       "181  1635465600    97.8517   3169                       1\n",
       "182  1635552000    44.1588    683                       1\n",
       "183  1635638400    30.1968    569                       1\n",
       "\n",
       "[184 rows x 4 columns]"
      ]
     },
     "execution_count": 467,
     "metadata": {},
     "output_type": "execute_result"
    }
   ],
   "source": [
    "summed_df"
   ]
  },
  {
   "cell_type": "code",
   "execution_count": 468,
   "id": "8540fa56-1575-4e20-b3c4-46aa2324ceba",
   "metadata": {},
   "outputs": [],
   "source": [
    "X = summed_df.drop(['stock_trend_prediction'], axis=1)\n",
    "\n",
    "y = summed_df['stock_trend_prediction']"
   ]
  },
  {
   "cell_type": "code",
   "execution_count": 469,
   "id": "04279df6-d722-4d69-b2d8-bd1cedeaaefb",
   "metadata": {},
   "outputs": [],
   "source": [
    "# X = new_df.drop(['stock_trend_prediction'], axis=1)\n",
    "\n",
    "# y = new_df['stock_trend_prediction']"
   ]
  },
  {
   "cell_type": "code",
   "execution_count": 470,
   "id": "43f86503-3249-4911-95b5-c0a8b1f254fb",
   "metadata": {},
   "outputs": [],
   "source": [
    "from sklearn.model_selection import train_test_split\n",
    "\n",
    "X_train, X_test, y_train, y_test = train_test_split(X, y, test_size = 0.33, random_state = 42)"
   ]
  },
  {
   "cell_type": "code",
   "execution_count": 471,
   "id": "6d2c7ca0-0d53-4682-a860-6140de623b8c",
   "metadata": {},
   "outputs": [
    {
     "data": {
      "text/html": [
       "<div>\n",
       "<style scoped>\n",
       "    .dataframe tbody tr th:only-of-type {\n",
       "        vertical-align: middle;\n",
       "    }\n",
       "\n",
       "    .dataframe tbody tr th {\n",
       "        vertical-align: top;\n",
       "    }\n",
       "\n",
       "    .dataframe thead th {\n",
       "        text-align: right;\n",
       "    }\n",
       "</style>\n",
       "<table border=\"1\" class=\"dataframe\">\n",
       "  <thead>\n",
       "    <tr style=\"text-align: right;\">\n",
       "      <th></th>\n",
       "      <th>date</th>\n",
       "      <th>sentiment</th>\n",
       "      <th>score</th>\n",
       "    </tr>\n",
       "  </thead>\n",
       "  <tbody>\n",
       "    <tr>\n",
       "      <th>176</th>\n",
       "      <td>1635033600</td>\n",
       "      <td>22.7046</td>\n",
       "      <td>645</td>\n",
       "    </tr>\n",
       "    <tr>\n",
       "      <th>115</th>\n",
       "      <td>1629763200</td>\n",
       "      <td>76.8189</td>\n",
       "      <td>4463</td>\n",
       "    </tr>\n",
       "    <tr>\n",
       "      <th>78</th>\n",
       "      <td>1626566400</td>\n",
       "      <td>46.8620</td>\n",
       "      <td>3527</td>\n",
       "    </tr>\n",
       "    <tr>\n",
       "      <th>36</th>\n",
       "      <td>1622937600</td>\n",
       "      <td>56.1612</td>\n",
       "      <td>2384</td>\n",
       "    </tr>\n",
       "    <tr>\n",
       "      <th>128</th>\n",
       "      <td>1630886400</td>\n",
       "      <td>27.7399</td>\n",
       "      <td>922</td>\n",
       "    </tr>\n",
       "  </tbody>\n",
       "</table>\n",
       "</div>"
      ],
      "text/plain": [
       "           date  sentiment  score\n",
       "176  1635033600    22.7046    645\n",
       "115  1629763200    76.8189   4463\n",
       "78   1626566400    46.8620   3527\n",
       "36   1622937600    56.1612   2384\n",
       "128  1630886400    27.7399    922"
      ]
     },
     "execution_count": 471,
     "metadata": {},
     "output_type": "execute_result"
    }
   ],
   "source": [
    "X_train.head()"
   ]
  },
  {
   "cell_type": "code",
   "execution_count": 472,
   "id": "0aeec151-7b3b-4beb-968e-faa681b580ed",
   "metadata": {},
   "outputs": [
    {
     "data": {
      "text/plain": [
       "((123, 3), (61, 3))"
      ]
     },
     "execution_count": 472,
     "metadata": {},
     "output_type": "execute_result"
    }
   ],
   "source": [
    "X_train.shape, X_test.shape"
   ]
  },
  {
   "cell_type": "code",
   "execution_count": 473,
   "id": "667fbdaf-47f6-445b-8614-98fc1319366e",
   "metadata": {},
   "outputs": [
    {
     "data": {
      "text/plain": [
       "date           int64\n",
       "sentiment    float64\n",
       "score          int64\n",
       "dtype: object"
      ]
     },
     "execution_count": 473,
     "metadata": {},
     "output_type": "execute_result"
    }
   ],
   "source": [
    "X_train.dtypes"
   ]
  },
  {
   "cell_type": "code",
   "execution_count": 474,
   "id": "988fe961-e7fb-47e2-8c05-5ada7404cdb7",
   "metadata": {},
   "outputs": [
    {
     "data": {
      "text/html": [
       "<div>\n",
       "<style scoped>\n",
       "    .dataframe tbody tr th:only-of-type {\n",
       "        vertical-align: middle;\n",
       "    }\n",
       "\n",
       "    .dataframe tbody tr th {\n",
       "        vertical-align: top;\n",
       "    }\n",
       "\n",
       "    .dataframe thead th {\n",
       "        text-align: right;\n",
       "    }\n",
       "</style>\n",
       "<table border=\"1\" class=\"dataframe\">\n",
       "  <thead>\n",
       "    <tr style=\"text-align: right;\">\n",
       "      <th></th>\n",
       "      <th>date</th>\n",
       "      <th>sentiment</th>\n",
       "      <th>score</th>\n",
       "    </tr>\n",
       "  </thead>\n",
       "  <tbody>\n",
       "    <tr>\n",
       "      <th>176</th>\n",
       "      <td>1635033600</td>\n",
       "      <td>22.7046</td>\n",
       "      <td>645</td>\n",
       "    </tr>\n",
       "    <tr>\n",
       "      <th>115</th>\n",
       "      <td>1629763200</td>\n",
       "      <td>76.8189</td>\n",
       "      <td>4463</td>\n",
       "    </tr>\n",
       "    <tr>\n",
       "      <th>78</th>\n",
       "      <td>1626566400</td>\n",
       "      <td>46.8620</td>\n",
       "      <td>3527</td>\n",
       "    </tr>\n",
       "    <tr>\n",
       "      <th>36</th>\n",
       "      <td>1622937600</td>\n",
       "      <td>56.1612</td>\n",
       "      <td>2384</td>\n",
       "    </tr>\n",
       "    <tr>\n",
       "      <th>128</th>\n",
       "      <td>1630886400</td>\n",
       "      <td>27.7399</td>\n",
       "      <td>922</td>\n",
       "    </tr>\n",
       "  </tbody>\n",
       "</table>\n",
       "</div>"
      ],
      "text/plain": [
       "           date  sentiment  score\n",
       "176  1635033600    22.7046    645\n",
       "115  1629763200    76.8189   4463\n",
       "78   1626566400    46.8620   3527\n",
       "36   1622937600    56.1612   2384\n",
       "128  1630886400    27.7399    922"
      ]
     },
     "execution_count": 474,
     "metadata": {},
     "output_type": "execute_result"
    }
   ],
   "source": [
    "X_train.head()"
   ]
  },
  {
   "cell_type": "markdown",
   "id": "3e6c86d6-af0c-4a06-8f57-fca7685f47f5",
   "metadata": {},
   "source": [
    "### Encoding features"
   ]
  },
  {
   "cell_type": "code",
   "execution_count": 475,
   "id": "2f85ea62-9569-4fa9-ba7f-6f2e8c43169c",
   "metadata": {},
   "outputs": [],
   "source": [
    "# pip install category_encoders"
   ]
  },
  {
   "cell_type": "code",
   "execution_count": 476,
   "id": "2e66b108-4dd9-41c2-973c-c9108e9aa60d",
   "metadata": {},
   "outputs": [],
   "source": [
    "# all data is floating point so cannot encode"
   ]
  },
  {
   "cell_type": "code",
   "execution_count": 477,
   "id": "e7cd1bcd-b56c-48ea-a7bd-abb0760880ce",
   "metadata": {},
   "outputs": [],
   "source": [
    "# Importing and initializing the classifier\n",
    "from sklearn.ensemble import RandomForestClassifier\n",
    "\n",
    "forest = RandomForestClassifier(random_state=42)"
   ]
  },
  {
   "cell_type": "code",
   "execution_count": 478,
   "id": "c062bb0e-ae56-47db-9891-ab83da9828f7",
   "metadata": {},
   "outputs": [
    {
     "data": {
      "text/html": [
       "<style>#sk-container-id-5 {color: black;background-color: white;}#sk-container-id-5 pre{padding: 0;}#sk-container-id-5 div.sk-toggleable {background-color: white;}#sk-container-id-5 label.sk-toggleable__label {cursor: pointer;display: block;width: 100%;margin-bottom: 0;padding: 0.3em;box-sizing: border-box;text-align: center;}#sk-container-id-5 label.sk-toggleable__label-arrow:before {content: \"▸\";float: left;margin-right: 0.25em;color: #696969;}#sk-container-id-5 label.sk-toggleable__label-arrow:hover:before {color: black;}#sk-container-id-5 div.sk-estimator:hover label.sk-toggleable__label-arrow:before {color: black;}#sk-container-id-5 div.sk-toggleable__content {max-height: 0;max-width: 0;overflow: hidden;text-align: left;background-color: #f0f8ff;}#sk-container-id-5 div.sk-toggleable__content pre {margin: 0.2em;color: black;border-radius: 0.25em;background-color: #f0f8ff;}#sk-container-id-5 input.sk-toggleable__control:checked~div.sk-toggleable__content {max-height: 200px;max-width: 100%;overflow: auto;}#sk-container-id-5 input.sk-toggleable__control:checked~label.sk-toggleable__label-arrow:before {content: \"▾\";}#sk-container-id-5 div.sk-estimator input.sk-toggleable__control:checked~label.sk-toggleable__label {background-color: #d4ebff;}#sk-container-id-5 div.sk-label input.sk-toggleable__control:checked~label.sk-toggleable__label {background-color: #d4ebff;}#sk-container-id-5 input.sk-hidden--visually {border: 0;clip: rect(1px 1px 1px 1px);clip: rect(1px, 1px, 1px, 1px);height: 1px;margin: -1px;overflow: hidden;padding: 0;position: absolute;width: 1px;}#sk-container-id-5 div.sk-estimator {font-family: monospace;background-color: #f0f8ff;border: 1px dotted black;border-radius: 0.25em;box-sizing: border-box;margin-bottom: 0.5em;}#sk-container-id-5 div.sk-estimator:hover {background-color: #d4ebff;}#sk-container-id-5 div.sk-parallel-item::after {content: \"\";width: 100%;border-bottom: 1px solid gray;flex-grow: 1;}#sk-container-id-5 div.sk-label:hover label.sk-toggleable__label {background-color: #d4ebff;}#sk-container-id-5 div.sk-serial::before {content: \"\";position: absolute;border-left: 1px solid gray;box-sizing: border-box;top: 0;bottom: 0;left: 50%;z-index: 0;}#sk-container-id-5 div.sk-serial {display: flex;flex-direction: column;align-items: center;background-color: white;padding-right: 0.2em;padding-left: 0.2em;position: relative;}#sk-container-id-5 div.sk-item {position: relative;z-index: 1;}#sk-container-id-5 div.sk-parallel {display: flex;align-items: stretch;justify-content: center;background-color: white;position: relative;}#sk-container-id-5 div.sk-item::before, #sk-container-id-5 div.sk-parallel-item::before {content: \"\";position: absolute;border-left: 1px solid gray;box-sizing: border-box;top: 0;bottom: 0;left: 50%;z-index: -1;}#sk-container-id-5 div.sk-parallel-item {display: flex;flex-direction: column;z-index: 1;position: relative;background-color: white;}#sk-container-id-5 div.sk-parallel-item:first-child::after {align-self: flex-end;width: 50%;}#sk-container-id-5 div.sk-parallel-item:last-child::after {align-self: flex-start;width: 50%;}#sk-container-id-5 div.sk-parallel-item:only-child::after {width: 0;}#sk-container-id-5 div.sk-dashed-wrapped {border: 1px dashed gray;margin: 0 0.4em 0.5em 0.4em;box-sizing: border-box;padding-bottom: 0.4em;background-color: white;}#sk-container-id-5 div.sk-label label {font-family: monospace;font-weight: bold;display: inline-block;line-height: 1.2em;}#sk-container-id-5 div.sk-label-container {text-align: center;}#sk-container-id-5 div.sk-container {/* jupyter's `normalize.less` sets `[hidden] { display: none; }` but bootstrap.min.css set `[hidden] { display: none !important; }` so we also need the `!important` here to be able to override the default hidden behavior on the sphinx rendered scikit-learn.org. See: https://github.com/scikit-learn/scikit-learn/issues/21755 */display: inline-block !important;position: relative;}#sk-container-id-5 div.sk-text-repr-fallback {display: none;}</style><div id=\"sk-container-id-5\" class=\"sk-top-container\"><div class=\"sk-text-repr-fallback\"><pre>RandomForestClassifier(random_state=42)</pre><b>In a Jupyter environment, please rerun this cell to show the HTML representation or trust the notebook. <br />On GitHub, the HTML representation is unable to render, please try loading this page with nbviewer.org.</b></div><div class=\"sk-container\" hidden><div class=\"sk-item\"><div class=\"sk-estimator sk-toggleable\"><input class=\"sk-toggleable__control sk-hidden--visually\" id=\"sk-estimator-id-5\" type=\"checkbox\" checked><label for=\"sk-estimator-id-5\" class=\"sk-toggleable__label sk-toggleable__label-arrow\">RandomForestClassifier</label><div class=\"sk-toggleable__content\"><pre>RandomForestClassifier(random_state=42)</pre></div></div></div></div></div>"
      ],
      "text/plain": [
       "RandomForestClassifier(random_state=42)"
      ]
     },
     "execution_count": 478,
     "metadata": {},
     "output_type": "execute_result"
    }
   ],
   "source": [
    "# Fit the model\n",
    "forest.fit(X_train, y_train)"
   ]
  },
  {
   "cell_type": "code",
   "execution_count": 479,
   "id": "a38b4ba1-ff55-4c5b-a26b-da1b7fb9c516",
   "metadata": {},
   "outputs": [],
   "source": [
    "# Get the predictions\n",
    "y_pred = forest.predict(X_test)"
   ]
  },
  {
   "cell_type": "code",
   "execution_count": 480,
   "id": "424e957b-b047-4c8e-8bc4-d6c03c804c8d",
   "metadata": {},
   "outputs": [],
   "source": [
    "from sklearn.metrics import accuracy_score"
   ]
  },
  {
   "cell_type": "code",
   "execution_count": 481,
   "id": "89440251-4b8b-4029-8971-87d83cb6caee",
   "metadata": {},
   "outputs": [
    {
     "name": "stdout",
     "output_type": "stream",
     "text": [
      "Model accuracy score with 10 decision-trees : 0.5574\n"
     ]
    }
   ],
   "source": [
    "# Print model accuracy\n",
    "print('Model accuracy score with 10 decision-trees : {0:0.4f}'. format(accuracy_score(y_test, y_pred)))"
   ]
  },
  {
   "cell_type": "markdown",
   "id": "4ca90b22-ecd6-4806-a46a-8da79b06b620",
   "metadata": {},
   "source": [
    "## 100 Forests"
   ]
  },
  {
   "cell_type": "code",
   "execution_count": 483,
   "id": "90839a04-c9ef-4b77-a3fb-7246946adf2f",
   "metadata": {},
   "outputs": [
    {
     "name": "stdout",
     "output_type": "stream",
     "text": [
      "Model accuracy score with 100 decision-trees : 0.5902\n"
     ]
    }
   ],
   "source": [
    "forest_100 = RandomForestClassifier(n_estimators=100, random_state=0)\n",
    "\n",
    "forest_100.fit(X_train, y_train)\n",
    "\n",
    "y_pred_100 = forest_100.predict(X_test)\n",
    "\n",
    "print('Model accuracy score with 100 decision-trees : {0:0.4f}'. format(accuracy_score(y_test, y_pred_100)))"
   ]
  },
  {
   "cell_type": "markdown",
   "id": "e13af055-0416-48e3-88e3-ed5c8ad9fb18",
   "metadata": {},
   "source": [
    "## Finding important Features"
   ]
  },
  {
   "cell_type": "code",
   "execution_count": 486,
   "id": "de06c776-5ebb-4f6e-9453-c72c59abb352",
   "metadata": {},
   "outputs": [
    {
     "data": {
      "text/html": [
       "<style>#sk-container-id-8 {color: black;background-color: white;}#sk-container-id-8 pre{padding: 0;}#sk-container-id-8 div.sk-toggleable {background-color: white;}#sk-container-id-8 label.sk-toggleable__label {cursor: pointer;display: block;width: 100%;margin-bottom: 0;padding: 0.3em;box-sizing: border-box;text-align: center;}#sk-container-id-8 label.sk-toggleable__label-arrow:before {content: \"▸\";float: left;margin-right: 0.25em;color: #696969;}#sk-container-id-8 label.sk-toggleable__label-arrow:hover:before {color: black;}#sk-container-id-8 div.sk-estimator:hover label.sk-toggleable__label-arrow:before {color: black;}#sk-container-id-8 div.sk-toggleable__content {max-height: 0;max-width: 0;overflow: hidden;text-align: left;background-color: #f0f8ff;}#sk-container-id-8 div.sk-toggleable__content pre {margin: 0.2em;color: black;border-radius: 0.25em;background-color: #f0f8ff;}#sk-container-id-8 input.sk-toggleable__control:checked~div.sk-toggleable__content {max-height: 200px;max-width: 100%;overflow: auto;}#sk-container-id-8 input.sk-toggleable__control:checked~label.sk-toggleable__label-arrow:before {content: \"▾\";}#sk-container-id-8 div.sk-estimator input.sk-toggleable__control:checked~label.sk-toggleable__label {background-color: #d4ebff;}#sk-container-id-8 div.sk-label input.sk-toggleable__control:checked~label.sk-toggleable__label {background-color: #d4ebff;}#sk-container-id-8 input.sk-hidden--visually {border: 0;clip: rect(1px 1px 1px 1px);clip: rect(1px, 1px, 1px, 1px);height: 1px;margin: -1px;overflow: hidden;padding: 0;position: absolute;width: 1px;}#sk-container-id-8 div.sk-estimator {font-family: monospace;background-color: #f0f8ff;border: 1px dotted black;border-radius: 0.25em;box-sizing: border-box;margin-bottom: 0.5em;}#sk-container-id-8 div.sk-estimator:hover {background-color: #d4ebff;}#sk-container-id-8 div.sk-parallel-item::after {content: \"\";width: 100%;border-bottom: 1px solid gray;flex-grow: 1;}#sk-container-id-8 div.sk-label:hover label.sk-toggleable__label {background-color: #d4ebff;}#sk-container-id-8 div.sk-serial::before {content: \"\";position: absolute;border-left: 1px solid gray;box-sizing: border-box;top: 0;bottom: 0;left: 50%;z-index: 0;}#sk-container-id-8 div.sk-serial {display: flex;flex-direction: column;align-items: center;background-color: white;padding-right: 0.2em;padding-left: 0.2em;position: relative;}#sk-container-id-8 div.sk-item {position: relative;z-index: 1;}#sk-container-id-8 div.sk-parallel {display: flex;align-items: stretch;justify-content: center;background-color: white;position: relative;}#sk-container-id-8 div.sk-item::before, #sk-container-id-8 div.sk-parallel-item::before {content: \"\";position: absolute;border-left: 1px solid gray;box-sizing: border-box;top: 0;bottom: 0;left: 50%;z-index: -1;}#sk-container-id-8 div.sk-parallel-item {display: flex;flex-direction: column;z-index: 1;position: relative;background-color: white;}#sk-container-id-8 div.sk-parallel-item:first-child::after {align-self: flex-end;width: 50%;}#sk-container-id-8 div.sk-parallel-item:last-child::after {align-self: flex-start;width: 50%;}#sk-container-id-8 div.sk-parallel-item:only-child::after {width: 0;}#sk-container-id-8 div.sk-dashed-wrapped {border: 1px dashed gray;margin: 0 0.4em 0.5em 0.4em;box-sizing: border-box;padding-bottom: 0.4em;background-color: white;}#sk-container-id-8 div.sk-label label {font-family: monospace;font-weight: bold;display: inline-block;line-height: 1.2em;}#sk-container-id-8 div.sk-label-container {text-align: center;}#sk-container-id-8 div.sk-container {/* jupyter's `normalize.less` sets `[hidden] { display: none; }` but bootstrap.min.css set `[hidden] { display: none !important; }` so we also need the `!important` here to be able to override the default hidden behavior on the sphinx rendered scikit-learn.org. See: https://github.com/scikit-learn/scikit-learn/issues/21755 */display: inline-block !important;position: relative;}#sk-container-id-8 div.sk-text-repr-fallback {display: none;}</style><div id=\"sk-container-id-8\" class=\"sk-top-container\"><div class=\"sk-text-repr-fallback\"><pre>RandomForestClassifier(random_state=0)</pre><b>In a Jupyter environment, please rerun this cell to show the HTML representation or trust the notebook. <br />On GitHub, the HTML representation is unable to render, please try loading this page with nbviewer.org.</b></div><div class=\"sk-container\" hidden><div class=\"sk-item\"><div class=\"sk-estimator sk-toggleable\"><input class=\"sk-toggleable__control sk-hidden--visually\" id=\"sk-estimator-id-8\" type=\"checkbox\" checked><label for=\"sk-estimator-id-8\" class=\"sk-toggleable__label sk-toggleable__label-arrow\">RandomForestClassifier</label><div class=\"sk-toggleable__content\"><pre>RandomForestClassifier(random_state=0)</pre></div></div></div></div></div>"
      ],
      "text/plain": [
       "RandomForestClassifier(random_state=0)"
      ]
     },
     "execution_count": 486,
     "metadata": {},
     "output_type": "execute_result"
    }
   ],
   "source": [
    "# load and fit\n",
    "forest = RandomForestClassifier(n_estimators=100, random_state=0)\n",
    "\n",
    "\n",
    "forest.fit(X_train, y_train)"
   ]
  },
  {
   "cell_type": "code",
   "execution_count": 487,
   "id": "fb5f8d1e-b8c9-4401-9b44-b45ed90f8781",
   "metadata": {},
   "outputs": [],
   "source": [
    "feature_scores = pd.Series(forest.feature_importances_, index=X_train.columns).sort_values(ascending=False)"
   ]
  },
  {
   "cell_type": "code",
   "execution_count": 489,
   "id": "b8cb7c81-b5fe-408c-a13a-ceebacd3cb93",
   "metadata": {},
   "outputs": [
    {
     "data": {
      "text/plain": [
       "sentiment    0.357452\n",
       "date         0.327294\n",
       "score        0.315254\n",
       "dtype: float64"
      ]
     },
     "execution_count": 489,
     "metadata": {},
     "output_type": "execute_result"
    }
   ],
   "source": [
    "feature_scores"
   ]
  },
  {
   "cell_type": "code",
   "execution_count": 490,
   "id": "8784d0d6-2b4e-47e0-b11e-e66637cb17f3",
   "metadata": {},
   "outputs": [],
   "source": [
    "import matplotlib.pyplot as plt\n",
    "import seaborn as sns"
   ]
  },
  {
   "cell_type": "code",
   "execution_count": 491,
   "id": "6bb0f08b-c960-448a-8549-c07162afe1e1",
   "metadata": {},
   "outputs": [],
   "source": [
    "%matplotlib inline\n"
   ]
  },
  {
   "cell_type": "code",
   "execution_count": 494,
   "id": "ff90731a-cff4-4556-9aab-9d4c27f330bd",
   "metadata": {},
   "outputs": [
    {
     "data": {
      "text/plain": [
       "<Axes: title={'center': 'Visualizing Important Features'}, xlabel='Feature Impactful Score', ylabel='Features'>"
      ]
     },
     "execution_count": 494,
     "metadata": {},
     "output_type": "execute_result"
    },
    {
     "data": {
      "image/png": "[encoded data removed]",
      "text/plain": [
       "<Figure size 640x480 with 1 Axes>"
      ]
     },
     "metadata": {},
     "output_type": "display_data"
    }
   ],
   "source": [
    "plt.xlabel('Feature Impactful Score')\n",
    "\n",
    "plt.ylabel('Features')\n",
    "\n",
    "plt.title(\"Visualizing Important Features\")\n",
    "\n",
    "sns.barplot(x=feature_scores, y=feature_scores.index)"
   ]
  },
  {
   "cell_type": "markdown",
   "id": "3f00f63b-d4c7-4b9e-81b0-7045f90fbe71",
   "metadata": {},
   "source": [
    "### Working using the important features"
   ]
  },
  {
   "cell_type": "code",
   "execution_count": 498,
   "id": "2355b4e7-0446-46f3-ab25-842114e0cf99",
   "metadata": {},
   "outputs": [],
   "source": [
    "X = summed_df.drop(['stock_trend_prediction', 'score'], axis=1)\n",
    "\n",
    "y = summed_df['stock_trend_prediction']"
   ]
  },
  {
   "cell_type": "code",
   "execution_count": 499,
   "id": "2b19c2e4-386b-4b97-9196-36073bad7b3a",
   "metadata": {},
   "outputs": [],
   "source": [
    "from sklearn.model_selection import train_test_split\n",
    "\n",
    "X_train, X_test, y_train, y_test = train_test_split(X, y, test_size = 0.33, random_state = 42)"
   ]
  },
  {
   "cell_type": "code",
   "execution_count": 501,
   "id": "03ddc3f3-a1ec-487a-a3f6-e2621479d10e",
   "metadata": {},
   "outputs": [
    {
     "data": {
      "text/html": [
       "<style>#sk-container-id-9 {color: black;background-color: white;}#sk-container-id-9 pre{padding: 0;}#sk-container-id-9 div.sk-toggleable {background-color: white;}#sk-container-id-9 label.sk-toggleable__label {cursor: pointer;display: block;width: 100%;margin-bottom: 0;padding: 0.3em;box-sizing: border-box;text-align: center;}#sk-container-id-9 label.sk-toggleable__label-arrow:before {content: \"▸\";float: left;margin-right: 0.25em;color: #696969;}#sk-container-id-9 label.sk-toggleable__label-arrow:hover:before {color: black;}#sk-container-id-9 div.sk-estimator:hover label.sk-toggleable__label-arrow:before {color: black;}#sk-container-id-9 div.sk-toggleable__content {max-height: 0;max-width: 0;overflow: hidden;text-align: left;background-color: #f0f8ff;}#sk-container-id-9 div.sk-toggleable__content pre {margin: 0.2em;color: black;border-radius: 0.25em;background-color: #f0f8ff;}#sk-container-id-9 input.sk-toggleable__control:checked~div.sk-toggleable__content {max-height: 200px;max-width: 100%;overflow: auto;}#sk-container-id-9 input.sk-toggleable__control:checked~label.sk-toggleable__label-arrow:before {content: \"▾\";}#sk-container-id-9 div.sk-estimator input.sk-toggleable__control:checked~label.sk-toggleable__label {background-color: #d4ebff;}#sk-container-id-9 div.sk-label input.sk-toggleable__control:checked~label.sk-toggleable__label {background-color: #d4ebff;}#sk-container-id-9 input.sk-hidden--visually {border: 0;clip: rect(1px 1px 1px 1px);clip: rect(1px, 1px, 1px, 1px);height: 1px;margin: -1px;overflow: hidden;padding: 0;position: absolute;width: 1px;}#sk-container-id-9 div.sk-estimator {font-family: monospace;background-color: #f0f8ff;border: 1px dotted black;border-radius: 0.25em;box-sizing: border-box;margin-bottom: 0.5em;}#sk-container-id-9 div.sk-estimator:hover {background-color: #d4ebff;}#sk-container-id-9 div.sk-parallel-item::after {content: \"\";width: 100%;border-bottom: 1px solid gray;flex-grow: 1;}#sk-container-id-9 div.sk-label:hover label.sk-toggleable__label {background-color: #d4ebff;}#sk-container-id-9 div.sk-serial::before {content: \"\";position: absolute;border-left: 1px solid gray;box-sizing: border-box;top: 0;bottom: 0;left: 50%;z-index: 0;}#sk-container-id-9 div.sk-serial {display: flex;flex-direction: column;align-items: center;background-color: white;padding-right: 0.2em;padding-left: 0.2em;position: relative;}#sk-container-id-9 div.sk-item {position: relative;z-index: 1;}#sk-container-id-9 div.sk-parallel {display: flex;align-items: stretch;justify-content: center;background-color: white;position: relative;}#sk-container-id-9 div.sk-item::before, #sk-container-id-9 div.sk-parallel-item::before {content: \"\";position: absolute;border-left: 1px solid gray;box-sizing: border-box;top: 0;bottom: 0;left: 50%;z-index: -1;}#sk-container-id-9 div.sk-parallel-item {display: flex;flex-direction: column;z-index: 1;position: relative;background-color: white;}#sk-container-id-9 div.sk-parallel-item:first-child::after {align-self: flex-end;width: 50%;}#sk-container-id-9 div.sk-parallel-item:last-child::after {align-self: flex-start;width: 50%;}#sk-container-id-9 div.sk-parallel-item:only-child::after {width: 0;}#sk-container-id-9 div.sk-dashed-wrapped {border: 1px dashed gray;margin: 0 0.4em 0.5em 0.4em;box-sizing: border-box;padding-bottom: 0.4em;background-color: white;}#sk-container-id-9 div.sk-label label {font-family: monospace;font-weight: bold;display: inline-block;line-height: 1.2em;}#sk-container-id-9 div.sk-label-container {text-align: center;}#sk-container-id-9 div.sk-container {/* jupyter's `normalize.less` sets `[hidden] { display: none; }` but bootstrap.min.css set `[hidden] { display: none !important; }` so we also need the `!important` here to be able to override the default hidden behavior on the sphinx rendered scikit-learn.org. See: https://github.com/scikit-learn/scikit-learn/issues/21755 */display: inline-block !important;position: relative;}#sk-container-id-9 div.sk-text-repr-fallback {display: none;}</style><div id=\"sk-container-id-9\" class=\"sk-top-container\"><div class=\"sk-text-repr-fallback\"><pre>RandomForestClassifier(random_state=69)</pre><b>In a Jupyter environment, please rerun this cell to show the HTML representation or trust the notebook. <br />On GitHub, the HTML representation is unable to render, please try loading this page with nbviewer.org.</b></div><div class=\"sk-container\" hidden><div class=\"sk-item\"><div class=\"sk-estimator sk-toggleable\"><input class=\"sk-toggleable__control sk-hidden--visually\" id=\"sk-estimator-id-9\" type=\"checkbox\" checked><label for=\"sk-estimator-id-9\" class=\"sk-toggleable__label sk-toggleable__label-arrow\">RandomForestClassifier</label><div class=\"sk-toggleable__content\"><pre>RandomForestClassifier(random_state=69)</pre></div></div></div></div></div>"
      ],
      "text/plain": [
       "RandomForestClassifier(random_state=69)"
      ]
     },
     "execution_count": 501,
     "metadata": {},
     "output_type": "execute_result"
    }
   ],
   "source": [
    "forest = RandomForestClassifier(random_state=69)\n",
    "\n",
    "forest.fit(X_train, y_train)"
   ]
  },
  {
   "cell_type": "code",
   "execution_count": 503,
   "id": "584c3042-c209-42e4-8793-8b835a90900c",
   "metadata": {},
   "outputs": [],
   "source": [
    "y_pred = forest.predict(X_test)\n"
   ]
  },
  {
   "cell_type": "code",
   "execution_count": 504,
   "id": "449bd158-3a18-4309-88c6-adb0d33ded75",
   "metadata": {},
   "outputs": [
    {
     "name": "stdout",
     "output_type": "stream",
     "text": [
      "Model accuracy score with doors variable removed : 0.5574\n"
     ]
    }
   ],
   "source": [
    "print('Model accuracy score with doors variable removed : {0:0.4f}'. format(accuracy_score(y_test, y_pred)))\n"
   ]
  },
  {
   "cell_type": "code",
   "execution_count": 505,
   "id": "3ec6f58b-7207-471a-b57a-28428efca669",
   "metadata": {},
   "outputs": [
    {
     "name": "stdout",
     "output_type": "stream",
     "text": [
      "Confusion matrix\n",
      "\n",
      " [[18 17]\n",
      " [10 16]]\n"
     ]
    }
   ],
   "source": [
    "from sklearn.metrics import confusion_matrix\n",
    "\n",
    "cm = confusion_matrix(y_test, y_pred)\n",
    "\n",
    "print('Confusion matrix\\n\\n', cm)"
   ]
  },
  {
   "cell_type": "code",
   "execution_count": null,
   "id": "5895445d-322c-49ee-a520-f2d4a672dadf",
   "metadata": {},
   "outputs": [],
   "source": []
  },
  {
   "cell_type": "code",
   "execution_count": null,
   "id": "972a2ef6-d84e-47ac-8f28-b5557bd6f332",
   "metadata": {},
   "outputs": [],
   "source": []
  },
  {
   "cell_type": "code",
   "execution_count": null,
   "id": "0cf2aeff-342e-4553-b8ff-feff173c379d",
   "metadata": {},
   "outputs": [],
   "source": []
  }
 ],
 "metadata": {
  "kernelspec": {
   "display_name": "Python 3 (ipykernel)",
   "language": "python",
   "name": "python3"
  },
  "language_info": {
   "codemirror_mode": {
    "name": "ipython",
    "version": 3
   },
   "file_extension": ".py",
   "mimetype": "text/x-python",
   "name": "python",
   "nbconvert_exporter": "python",
   "pygments_lexer": "ipython3",
   "version": "3.11.7"
  }
 },
 "nbformat": 4,
 "nbformat_minor": 5
}
